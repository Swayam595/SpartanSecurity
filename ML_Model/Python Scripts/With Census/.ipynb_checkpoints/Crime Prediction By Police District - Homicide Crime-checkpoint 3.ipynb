{
 "cells": [
  {
   "cell_type": "markdown",
   "metadata": {},
   "source": [
    "## Library Dependencies"
   ]
  },
  {
   "cell_type": "code",
   "execution_count": 1,
   "metadata": {},
   "outputs": [],
   "source": [
    "import pandas as pd\n",
    "import numpy as np\n",
    "import matplotlib.pyplot as plt\n",
    "import seaborn as sns\n",
    "import os\n",
    "\n",
    "sns.set()"
   ]
  },
  {
   "cell_type": "code",
   "execution_count": 2,
   "metadata": {},
   "outputs": [
    {
     "name": "stdout",
     "output_type": "stream",
     "text": [
      "Enter Crime Type: Homicide\n"
     ]
    }
   ],
   "source": [
    "crime_type = input('Enter Crime Type: ')"
   ]
  },
  {
   "cell_type": "code",
   "execution_count": 3,
   "metadata": {},
   "outputs": [],
   "source": [
    "if not os.path.exists('../../Graphs/With_Census/Sub_Crime/%s'%crime_type):\n",
    "    os.makedirs('../../Graphs/With_Census/Sub_Crime/%s'%crime_type)"
   ]
  },
  {
   "cell_type": "markdown",
   "metadata": {},
   "source": [
    "## Importing Baltimore calls for service dataset"
   ]
  },
  {
   "cell_type": "code",
   "execution_count": 4,
   "metadata": {},
   "outputs": [
    {
     "data": {
      "text/html": [
       "<div>\n",
       "<style scoped>\n",
       "    .dataframe tbody tr th:only-of-type {\n",
       "        vertical-align: middle;\n",
       "    }\n",
       "\n",
       "    .dataframe tbody tr th {\n",
       "        vertical-align: top;\n",
       "    }\n",
       "\n",
       "    .dataframe thead th {\n",
       "        text-align: right;\n",
       "    }\n",
       "</style>\n",
       "<table border=\"1\" class=\"dataframe\">\n",
       "  <thead>\n",
       "    <tr style=\"text-align: right;\">\n",
       "      <th></th>\n",
       "      <th>Year</th>\n",
       "      <th>PoliceDistrict</th>\n",
       "      <th>Week_Number</th>\n",
       "      <th>Year_Week_Number</th>\n",
       "      <th>NoOfCrimes</th>\n",
       "    </tr>\n",
       "  </thead>\n",
       "  <tbody>\n",
       "    <tr>\n",
       "      <td>0</td>\n",
       "      <td>2014</td>\n",
       "      <td>SOUTHEAST</td>\n",
       "      <td>1</td>\n",
       "      <td>2014_1</td>\n",
       "      <td>0</td>\n",
       "    </tr>\n",
       "    <tr>\n",
       "      <td>1</td>\n",
       "      <td>2014</td>\n",
       "      <td>SOUTHEAST</td>\n",
       "      <td>2</td>\n",
       "      <td>2014_2</td>\n",
       "      <td>0</td>\n",
       "    </tr>\n",
       "    <tr>\n",
       "      <td>2</td>\n",
       "      <td>2014</td>\n",
       "      <td>SOUTHEAST</td>\n",
       "      <td>3</td>\n",
       "      <td>2014_3</td>\n",
       "      <td>0</td>\n",
       "    </tr>\n",
       "    <tr>\n",
       "      <td>3</td>\n",
       "      <td>2014</td>\n",
       "      <td>SOUTHEAST</td>\n",
       "      <td>4</td>\n",
       "      <td>2014_4</td>\n",
       "      <td>0</td>\n",
       "    </tr>\n",
       "    <tr>\n",
       "      <td>4</td>\n",
       "      <td>2014</td>\n",
       "      <td>SOUTHEAST</td>\n",
       "      <td>5</td>\n",
       "      <td>2014_5</td>\n",
       "      <td>2</td>\n",
       "    </tr>\n",
       "  </tbody>\n",
       "</table>\n",
       "</div>"
      ],
      "text/plain": [
       "   Year PoliceDistrict  Week_Number Year_Week_Number  NoOfCrimes\n",
       "0  2014      SOUTHEAST            1           2014_1           0\n",
       "1  2014      SOUTHEAST            2           2014_2           0\n",
       "2  2014      SOUTHEAST            3           2014_3           0\n",
       "3  2014      SOUTHEAST            4           2014_4           0\n",
       "4  2014      SOUTHEAST            5           2014_5           2"
      ]
     },
     "execution_count": 4,
     "metadata": {},
     "output_type": "execute_result"
    }
   ],
   "source": [
    "data = pd.read_csv('../../Clean Dataset/Sub Crimes By Neighborhood/Preprocessed_data/Preprocessed_%s_data.csv'%crime_type)\n",
    "data.head()"
   ]
  },
  {
   "cell_type": "code",
   "execution_count": 5,
   "metadata": {},
   "outputs": [
    {
     "data": {
      "text/html": [
       "<div>\n",
       "<style scoped>\n",
       "    .dataframe tbody tr th:only-of-type {\n",
       "        vertical-align: middle;\n",
       "    }\n",
       "\n",
       "    .dataframe tbody tr th {\n",
       "        vertical-align: top;\n",
       "    }\n",
       "\n",
       "    .dataframe thead th {\n",
       "        text-align: right;\n",
       "    }\n",
       "</style>\n",
       "<table border=\"1\" class=\"dataframe\">\n",
       "  <thead>\n",
       "    <tr style=\"text-align: right;\">\n",
       "      <th></th>\n",
       "      <th>Year</th>\n",
       "      <th>Week_Number</th>\n",
       "      <th>NoOfCrimes</th>\n",
       "    </tr>\n",
       "  </thead>\n",
       "  <tbody>\n",
       "    <tr>\n",
       "      <td>count</td>\n",
       "      <td>3024.000000</td>\n",
       "      <td>3024.000000</td>\n",
       "      <td>3024.000000</td>\n",
       "    </tr>\n",
       "    <tr>\n",
       "      <td>mean</td>\n",
       "      <td>2016.735119</td>\n",
       "      <td>25.586310</td>\n",
       "      <td>0.635251</td>\n",
       "    </tr>\n",
       "    <tr>\n",
       "      <td>std</td>\n",
       "      <td>1.870681</td>\n",
       "      <td>15.096201</td>\n",
       "      <td>0.855154</td>\n",
       "    </tr>\n",
       "    <tr>\n",
       "      <td>min</td>\n",
       "      <td>2014.000000</td>\n",
       "      <td>1.000000</td>\n",
       "      <td>0.000000</td>\n",
       "    </tr>\n",
       "    <tr>\n",
       "      <td>25%</td>\n",
       "      <td>2015.000000</td>\n",
       "      <td>12.750000</td>\n",
       "      <td>0.000000</td>\n",
       "    </tr>\n",
       "    <tr>\n",
       "      <td>50%</td>\n",
       "      <td>2017.000000</td>\n",
       "      <td>25.000000</td>\n",
       "      <td>0.000000</td>\n",
       "    </tr>\n",
       "    <tr>\n",
       "      <td>75%</td>\n",
       "      <td>2018.000000</td>\n",
       "      <td>39.000000</td>\n",
       "      <td>1.000000</td>\n",
       "    </tr>\n",
       "    <tr>\n",
       "      <td>max</td>\n",
       "      <td>2020.000000</td>\n",
       "      <td>53.000000</td>\n",
       "      <td>5.000000</td>\n",
       "    </tr>\n",
       "  </tbody>\n",
       "</table>\n",
       "</div>"
      ],
      "text/plain": [
       "              Year  Week_Number   NoOfCrimes\n",
       "count  3024.000000  3024.000000  3024.000000\n",
       "mean   2016.735119    25.586310     0.635251\n",
       "std       1.870681    15.096201     0.855154\n",
       "min    2014.000000     1.000000     0.000000\n",
       "25%    2015.000000    12.750000     0.000000\n",
       "50%    2017.000000    25.000000     0.000000\n",
       "75%    2018.000000    39.000000     1.000000\n",
       "max    2020.000000    53.000000     5.000000"
      ]
     },
     "execution_count": 5,
     "metadata": {},
     "output_type": "execute_result"
    }
   ],
   "source": [
    "data.describe()"
   ]
  },
  {
   "cell_type": "code",
   "execution_count": 6,
   "metadata": {},
   "outputs": [],
   "source": [
    "PoliceDistrict = data['PoliceDistrict'].unique()\n",
    "ts_data_week = {}\n",
    "for district in PoliceDistrict:\n",
    "    ts_data_week[district] = data[data['PoliceDistrict'] == district]"
   ]
  },
  {
   "cell_type": "markdown",
   "metadata": {},
   "source": [
    "## Importing Population Dataset"
   ]
  },
  {
   "cell_type": "code",
   "execution_count": 7,
   "metadata": {},
   "outputs": [
    {
     "data": {
      "text/html": [
       "<div>\n",
       "<style scoped>\n",
       "    .dataframe tbody tr th:only-of-type {\n",
       "        vertical-align: middle;\n",
       "    }\n",
       "\n",
       "    .dataframe tbody tr th {\n",
       "        vertical-align: top;\n",
       "    }\n",
       "\n",
       "    .dataframe thead th {\n",
       "        text-align: right;\n",
       "    }\n",
       "</style>\n",
       "<table border=\"1\" class=\"dataframe\">\n",
       "  <thead>\n",
       "    <tr style=\"text-align: right;\">\n",
       "      <th></th>\n",
       "      <th>Police District</th>\n",
       "      <th>Population</th>\n",
       "    </tr>\n",
       "  </thead>\n",
       "  <tbody>\n",
       "    <tr>\n",
       "      <td>0</td>\n",
       "      <td>CENTRAL</td>\n",
       "      <td>34300</td>\n",
       "    </tr>\n",
       "    <tr>\n",
       "      <td>1</td>\n",
       "      <td>NORTHERN</td>\n",
       "      <td>95194</td>\n",
       "    </tr>\n",
       "    <tr>\n",
       "      <td>2</td>\n",
       "      <td>NORTHWEST</td>\n",
       "      <td>78736</td>\n",
       "    </tr>\n",
       "    <tr>\n",
       "      <td>3</td>\n",
       "      <td>WESTERN</td>\n",
       "      <td>39691</td>\n",
       "    </tr>\n",
       "    <tr>\n",
       "      <td>4</td>\n",
       "      <td>EASTERN</td>\n",
       "      <td>42653</td>\n",
       "    </tr>\n",
       "    <tr>\n",
       "      <td>5</td>\n",
       "      <td>NORTHEAST</td>\n",
       "      <td>155040</td>\n",
       "    </tr>\n",
       "    <tr>\n",
       "      <td>6</td>\n",
       "      <td>SOUTHEAST</td>\n",
       "      <td>69535</td>\n",
       "    </tr>\n",
       "    <tr>\n",
       "      <td>7</td>\n",
       "      <td>SOUTHERN</td>\n",
       "      <td>60141</td>\n",
       "    </tr>\n",
       "    <tr>\n",
       "      <td>8</td>\n",
       "      <td>SOUTHWEST</td>\n",
       "      <td>68743</td>\n",
       "    </tr>\n",
       "  </tbody>\n",
       "</table>\n",
       "</div>"
      ],
      "text/plain": [
       "  Police District  Population\n",
       "0         CENTRAL       34300\n",
       "1        NORTHERN       95194\n",
       "2       NORTHWEST       78736\n",
       "3         WESTERN       39691\n",
       "4         EASTERN       42653\n",
       "5       NORTHEAST      155040\n",
       "6       SOUTHEAST       69535\n",
       "7        SOUTHERN       60141\n",
       "8       SOUTHWEST       68743"
      ]
     },
     "execution_count": 7,
     "metadata": {},
     "output_type": "execute_result"
    }
   ],
   "source": [
    "population_data = pd.read_csv('../../Clean Dataset/Population_By_PoliceDistrict.csv')\n",
    "population_data"
   ]
  },
  {
   "cell_type": "markdown",
   "metadata": {},
   "source": [
    "# Make Forecasting Frame"
   ]
  },
  {
   "cell_type": "code",
   "execution_count": 8,
   "metadata": {},
   "outputs": [
    {
     "data": {
      "text/html": [
       "<div>\n",
       "<style scoped>\n",
       "    .dataframe tbody tr th:only-of-type {\n",
       "        vertical-align: middle;\n",
       "    }\n",
       "\n",
       "    .dataframe tbody tr th {\n",
       "        vertical-align: top;\n",
       "    }\n",
       "\n",
       "    .dataframe thead th {\n",
       "        text-align: right;\n",
       "    }\n",
       "</style>\n",
       "<table border=\"1\" class=\"dataframe\">\n",
       "  <thead>\n",
       "    <tr style=\"text-align: right;\">\n",
       "      <th></th>\n",
       "      <th>Year</th>\n",
       "      <th>PoliceDistrict</th>\n",
       "      <th>Week_Number</th>\n",
       "      <th>Year_Week_Number</th>\n",
       "      <th>NoOfCrimes</th>\n",
       "    </tr>\n",
       "  </thead>\n",
       "  <tbody>\n",
       "    <tr>\n",
       "      <td>2016</td>\n",
       "      <td>2014</td>\n",
       "      <td>NORTHEAST</td>\n",
       "      <td>1</td>\n",
       "      <td>2014_1</td>\n",
       "      <td>1</td>\n",
       "    </tr>\n",
       "    <tr>\n",
       "      <td>2017</td>\n",
       "      <td>2014</td>\n",
       "      <td>NORTHEAST</td>\n",
       "      <td>2</td>\n",
       "      <td>2014_2</td>\n",
       "      <td>2</td>\n",
       "    </tr>\n",
       "    <tr>\n",
       "      <td>2018</td>\n",
       "      <td>2014</td>\n",
       "      <td>NORTHEAST</td>\n",
       "      <td>3</td>\n",
       "      <td>2014_3</td>\n",
       "      <td>0</td>\n",
       "    </tr>\n",
       "    <tr>\n",
       "      <td>2019</td>\n",
       "      <td>2014</td>\n",
       "      <td>NORTHEAST</td>\n",
       "      <td>4</td>\n",
       "      <td>2014_4</td>\n",
       "      <td>1</td>\n",
       "    </tr>\n",
       "    <tr>\n",
       "      <td>2020</td>\n",
       "      <td>2014</td>\n",
       "      <td>NORTHEAST</td>\n",
       "      <td>5</td>\n",
       "      <td>2014_5</td>\n",
       "      <td>0</td>\n",
       "    </tr>\n",
       "  </tbody>\n",
       "</table>\n",
       "</div>"
      ],
      "text/plain": [
       "      Year PoliceDistrict  Week_Number Year_Week_Number  NoOfCrimes\n",
       "2016  2014      NORTHEAST            1           2014_1           1\n",
       "2017  2014      NORTHEAST            2           2014_2           2\n",
       "2018  2014      NORTHEAST            3           2014_3           0\n",
       "2019  2014      NORTHEAST            4           2014_4           1\n",
       "2020  2014      NORTHEAST            5           2014_5           0"
      ]
     },
     "execution_count": 8,
     "metadata": {},
     "output_type": "execute_result"
    }
   ],
   "source": [
    "ts_data_week['NORTHEAST'].head()"
   ]
  },
  {
   "cell_type": "code",
   "execution_count": null,
   "metadata": {},
   "outputs": [],
   "source": [
    "df = pd.DataFrame()\n",
    "\n",
    "for i in PoliceDistrict:\n",
    "    values = ts_data_week[i]['NoOfCrimes'].tolist()\n",
    "    index = ts_data_week[i]['Year_Week_Number'].tolist()\n",
    "    temp_df = pd.DataFrame(values, columns = [i], index = index)\n",
    "    df = pd.concat([df, temp_df], axis = 1)\n",
    "    \n",
    "\n",
    "df.plot(figsize=(15,8))\n",
    "plt.xlabel('Week Number of the year 2019', fontsize=20)\n",
    "plt.ylabel('Crimes', fontsize=20)\n",
    "plt.title('True Crime Per Police Districts', fontsize=20)\n",
    "plt.savefig('../../Graphs/With_Census/Sub_Crime/%s/policeDistrictCrimes.jpg'%crime_type)\n",
    "plt.show()\n"
   ]
  },
  {
   "cell_type": "code",
   "execution_count": null,
   "metadata": {},
   "outputs": [],
   "source": [
    "fig = plt.figure()\n",
    "i = 0\n",
    "\n",
    "for pd_col in df:\n",
    "    ax = '52%s'%(i+1)\n",
    "    axis = fig.add_subplot(int(ax))\n",
    "    df[pd_col].plot(ax = axis, figsize = (15,20))\n",
    "    plt.xlabel('Year_Week_Number', fontsize = 20)\n",
    "    plt.ylabel('Crime', fontsize = 20)\n",
    "    title = '%s Police District Weekly Crime Trend' % PoliceDistrict[i]\n",
    "    plt.title(title, fontsize = 20)\n",
    "    i += 1\n",
    "    \n",
    "fig.tight_layout(pad=3.0) \n",
    "plt.savefig('../../Graphs/With_Census/Sub_Crime/%s/True_Crime_Baltimre.jpg'%crime_type)"
   ]
  },
  {
   "cell_type": "markdown",
   "metadata": {},
   "source": [
    "## Time Series Feature Extraction "
   ]
  },
  {
   "cell_type": "markdown",
   "metadata": {},
   "source": [
    "### Library Dependencies for making forecasting frame and Extracting time series features from it."
   ]
  },
  {
   "cell_type": "code",
   "execution_count": null,
   "metadata": {},
   "outputs": [],
   "source": [
    "from tsfresh.utilities.dataframe_functions import make_forecasting_frame\n",
    "from tsfresh.utilities.dataframe_functions import impute\n",
    "from tsfresh import extract_features"
   ]
  },
  {
   "cell_type": "markdown",
   "metadata": {},
   "source": [
    "### Takes one police district at a time and creates forecating frame and its output (total cirme) for that district and append it to a list called temp_df. "
   ]
  },
  {
   "cell_type": "code",
   "execution_count": null,
   "metadata": {},
   "outputs": [],
   "source": [
    "df_shift = pd.DataFrame()\n",
    "temp_df = []\n",
    "for district in PoliceDistrict:\n",
    "    temp_shift, temp_y = make_forecasting_frame(ts_data_week[district]['NoOfCrimes'], kind=\"crimes\", max_timeshift=20, rolling_direction=1) \n",
    "    temp_df.append([temp_shift, temp_y])"
   ]
  },
  {
   "cell_type": "markdown",
   "metadata": {},
   "source": [
    "### Create Time sereies features from make forecasting frames using tsfresh"
   ]
  },
  {
   "cell_type": "code",
   "execution_count": null,
   "metadata": {},
   "outputs": [],
   "source": [
    "ts_features = []\n",
    "\n",
    "for i in temp_df:\n",
    "    X = extract_features(i[0], column_id=\"id\", column_sort=\"time\", column_value=\"value\", \n",
    "                             impute_function=impute, show_warnings=False)\n",
    "    ts_features.append([X, i[1]])"
   ]
  },
  {
   "cell_type": "markdown",
   "metadata": {},
   "source": [
    "### Removing constant features"
   ]
  },
  {
   "cell_type": "code",
   "execution_count": null,
   "metadata": {},
   "outputs": [],
   "source": [
    "for i in ts_features:\n",
    "    print (i[0].shape)\n",
    "    i[0] = i[0].loc[:, i[0].apply(pd.Series.nunique) != 1] \n",
    "    print (i[0].shape)"
   ]
  },
  {
   "cell_type": "markdown",
   "metadata": {},
   "source": [
    "### Adding a lag of 1 into the extraced time series feature dataframe"
   ]
  },
  {
   "cell_type": "code",
   "execution_count": null,
   "metadata": {},
   "outputs": [],
   "source": [
    "for i in ts_features:\n",
    "    i[0][\"feature_last_value\"] = i[1].shift(1)"
   ]
  },
  {
   "cell_type": "markdown",
   "metadata": {},
   "source": [
    "### Droping the first row becuase of null value created due ot lag"
   ]
  },
  {
   "cell_type": "code",
   "execution_count": null,
   "metadata": {},
   "outputs": [],
   "source": [
    "for i in ts_features:\n",
    "    i[0] = i[0].iloc[1:, ]\n",
    "    i[1] = i[1].iloc[1: ]"
   ]
  },
  {
   "cell_type": "markdown",
   "metadata": {},
   "source": [
    "### Appending Population to time series features"
   ]
  },
  {
   "cell_type": "code",
   "execution_count": null,
   "metadata": {},
   "outputs": [],
   "source": [
    "districts = data['District'].unique()\n",
    "i = 0\n",
    "for district in districts:\n",
    "    population = population_data[population_data['Police District'] == district]['Population'].values[0]\n",
    "    ts_features[i][0]['Population'] = [population] * ts_features[i][0].shape[0]"
   ]
  },
  {
   "cell_type": "markdown",
   "metadata": {},
   "source": [
    "## Training and Tesing the models\n",
    "### Libray dependencies for different models and their evaluation metrics"
   ]
  },
  {
   "cell_type": "code",
   "execution_count": null,
   "metadata": {},
   "outputs": [],
   "source": [
    "from sklearn.ensemble import RandomForestRegressor\n",
    "from sklearn.metrics import mean_squared_error\n",
    "from sklearn.metrics import mean_absolute_error\n",
    "import sklearn.utils\n",
    "import numpy as np\n",
    "from sklearn.neural_network import MLPRegressor\n",
    "from sklearn.svm import SVR\n",
    "from sklearn.ensemble import AdaBoostRegressor\n",
    "\n",
    "import tqdm"
   ]
  },
  {
   "cell_type": "markdown",
   "metadata": {},
   "source": [
    "### Expanding Window Forecast - \n",
    "An expanding window refers to a model that train on all available historic data and uses that to make a forecast.\n",
    "\n",
    "It is an expanding window because it grows as more real observations are collected."
   ]
  },
  {
   "cell_type": "markdown",
   "metadata": {},
   "source": [
    "#### Traing random forest regressor using expanding window forecast approach and random forest regressor performance"
   ]
  },
  {
   "cell_type": "code",
   "execution_count": null,
   "metadata": {},
   "outputs": [],
   "source": [
    "y_pred = [[np.NaN] * len(ts_features[i][1]) for i in range(len(ts_features))]\n",
    "\n",
    "isp = 283   # index of where to start the predictions\n",
    "assert isp > 0\n",
    "\n",
    "index = 0\n",
    "district = 1\n",
    "for i in ts_features:\n",
    "    print (\"Current District Number = %s\"%district)\n",
    "    district += 1\n",
    "    RFR = RandomForestRegressor()\n",
    "    for j in tqdm.tqdm(range(isp, len(i[1]))):\n",
    "        RFR.fit(i[0].iloc[:j], i[1][:j])\n",
    "        y_pred[index][j] = RFR.predict(i[0].iloc[j, :].values.reshape((1, -1)))[0]\n",
    "    index += 1"
   ]
  },
  {
   "cell_type": "code",
   "execution_count": null,
   "metadata": {},
   "outputs": [],
   "source": [
    "y = []\n",
    "prediction = {}\n",
    "for i in range(len(temp_df)):\n",
    "    y_true = np.array(temp_df[i][1].tolist())\n",
    "    y_predicted = np.array(y_pred[i])\n",
    "    temp = pd.DataFrame([y_true, y_predicted], index = ['True', 'Pred']).T \n",
    "    y.append(temp)\n",
    "    \n",
    "    dist = PoliceDistrict[i]\n",
    "    temp_pred = [np.nan] + y_pred[i]\n",
    "    MSE = mean_squared_error(y_true[284:], temp_pred[284:])\n",
    "    MAE = mean_absolute_error(y_true[284:], temp_pred[284:])\n",
    "    prediction[dist] = {'MSE': MSE, 'MAE': MAE}\n",
    "    print ('Mean Squared Error for district %s = %s'%(dist, MSE))\n",
    "    print ('Mean Absolute Error for district %s = %s\\n\\n'%(dist, MAE))\n",
    "\n",
    "#### Finding average of MSE and MAE\n",
    "\n",
    "total_MSE = 0\n",
    "total_MAE = 0\n",
    "for i in prediction:\n",
    "    total_MSE += prediction[i]['MSE']\n",
    "    total_MAE += prediction[i]['MAE']\n",
    "    \n",
    "avg_MSE = total_MSE/len(PoliceDistrict)\n",
    "avg_MAE = total_MAE/len(PoliceDistrict)\n",
    "\n",
    "print ('Average of Mean Squared Error = %s'%avg_MSE)\n",
    "print ('Average of Mean Absolute Error = %s'%avg_MAE)"
   ]
  },
  {
   "cell_type": "markdown",
   "metadata": {},
   "source": [
    "#### Random Forest regressor prediction visualization "
   ]
  },
  {
   "cell_type": "code",
   "execution_count": null,
   "metadata": {
    "scrolled": true
   },
   "outputs": [],
   "source": [
    "fig = plt.figure()\n",
    "\n",
    "for i in range(0, 9):\n",
    "    ax = '52%s'%(i+1)\n",
    "    axis = fig.add_subplot(int(ax))\n",
    "    y[i].plot(ax = axis, figsize = (15,20))\n",
    "    plt.xlabel('Week', fontsize = 20)\n",
    "    plt.ylabel('Crime', fontsize = 20)\n",
    "    title = '%s District Predicted Crime Vs True Crime' % PoliceDistrict[i]\n",
    "    plt.title(title, fontsize = 20)\n",
    "    \n",
    "fig.tight_layout(pad=3.0) \n",
    "plt.savefig('../Graphs/Sub_Crime/With_Census/Sub_Crime/%s/Predicted_Crime_Vs_True_Crime_RFR.jpg'%crime_type)"
   ]
  },
  {
   "cell_type": "code",
   "execution_count": null,
   "metadata": {},
   "outputs": [],
   "source": []
  }
 ],
 "metadata": {
  "kernelspec": {
   "display_name": "Python 3",
   "language": "python",
   "name": "python3"
  },
  "language_info": {
   "codemirror_mode": {
    "name": "ipython",
    "version": 3
   },
   "file_extension": ".py",
   "mimetype": "text/x-python",
   "name": "python",
   "nbconvert_exporter": "python",
   "pygments_lexer": "ipython3",
   "version": "3.7.4"
  }
 },
 "nbformat": 4,
 "nbformat_minor": 2
}
