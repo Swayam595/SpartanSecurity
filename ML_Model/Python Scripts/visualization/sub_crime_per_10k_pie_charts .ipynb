{
 "cells": [
  {
   "cell_type": "markdown",
   "metadata": {},
   "source": [
    "## Library Dependencies"
   ]
  },
  {
   "cell_type": "code",
   "execution_count": 38,
   "metadata": {},
   "outputs": [],
   "source": [
    "import pandas as pd\n",
    "import numpy as np\n",
    "import matplotlib.pyplot as plt\n",
    "import seaborn as sns\n",
    "import os\n",
    "\n",
    "sns.set()"
   ]
  },
  {
   "cell_type": "code",
   "execution_count": 47,
   "metadata": {},
   "outputs": [
    {
     "name": "stdout",
     "output_type": "stream",
     "text": [
      "Enter Crime Type: Homicide\n"
     ]
    }
   ],
   "source": [
    "crime_type = input('Enter Crime Type: ')"
   ]
  },
  {
   "cell_type": "code",
   "execution_count": 48,
   "metadata": {},
   "outputs": [],
   "source": [
    "if not os.path.exists('../../Graphs/visualization/per_10k'):\n",
    "    os.makedirs('../../Graphs/visualization/per_10k')"
   ]
  },
  {
   "cell_type": "markdown",
   "metadata": {},
   "source": [
    "## Importing Baltimore calls for service dataset"
   ]
  },
  {
   "cell_type": "code",
   "execution_count": 49,
   "metadata": {},
   "outputs": [
    {
     "data": {
      "text/html": [
       "<div>\n",
       "<style scoped>\n",
       "    .dataframe tbody tr th:only-of-type {\n",
       "        vertical-align: middle;\n",
       "    }\n",
       "\n",
       "    .dataframe tbody tr th {\n",
       "        vertical-align: top;\n",
       "    }\n",
       "\n",
       "    .dataframe thead th {\n",
       "        text-align: right;\n",
       "    }\n",
       "</style>\n",
       "<table border=\"1\" class=\"dataframe\">\n",
       "  <thead>\n",
       "    <tr style=\"text-align: right;\">\n",
       "      <th></th>\n",
       "      <th>Year</th>\n",
       "      <th>PoliceDistrict</th>\n",
       "      <th>Week_Number</th>\n",
       "      <th>Year_Week_Number</th>\n",
       "      <th>NoOfCrimes</th>\n",
       "    </tr>\n",
       "  </thead>\n",
       "  <tbody>\n",
       "    <tr>\n",
       "      <td>0</td>\n",
       "      <td>2014</td>\n",
       "      <td>SOUTHEAST</td>\n",
       "      <td>1</td>\n",
       "      <td>2014_1</td>\n",
       "      <td>0</td>\n",
       "    </tr>\n",
       "    <tr>\n",
       "      <td>1</td>\n",
       "      <td>2014</td>\n",
       "      <td>SOUTHEAST</td>\n",
       "      <td>2</td>\n",
       "      <td>2014_2</td>\n",
       "      <td>0</td>\n",
       "    </tr>\n",
       "    <tr>\n",
       "      <td>2</td>\n",
       "      <td>2014</td>\n",
       "      <td>SOUTHEAST</td>\n",
       "      <td>3</td>\n",
       "      <td>2014_3</td>\n",
       "      <td>0</td>\n",
       "    </tr>\n",
       "    <tr>\n",
       "      <td>3</td>\n",
       "      <td>2014</td>\n",
       "      <td>SOUTHEAST</td>\n",
       "      <td>4</td>\n",
       "      <td>2014_4</td>\n",
       "      <td>0</td>\n",
       "    </tr>\n",
       "    <tr>\n",
       "      <td>4</td>\n",
       "      <td>2014</td>\n",
       "      <td>SOUTHEAST</td>\n",
       "      <td>5</td>\n",
       "      <td>2014_5</td>\n",
       "      <td>2</td>\n",
       "    </tr>\n",
       "  </tbody>\n",
       "</table>\n",
       "</div>"
      ],
      "text/plain": [
       "   Year PoliceDistrict  Week_Number Year_Week_Number  NoOfCrimes\n",
       "0  2014      SOUTHEAST            1           2014_1           0\n",
       "1  2014      SOUTHEAST            2           2014_2           0\n",
       "2  2014      SOUTHEAST            3           2014_3           0\n",
       "3  2014      SOUTHEAST            4           2014_4           0\n",
       "4  2014      SOUTHEAST            5           2014_5           2"
      ]
     },
     "execution_count": 49,
     "metadata": {},
     "output_type": "execute_result"
    }
   ],
   "source": [
    "data = pd.read_csv('../../Clean Dataset/Sub Crimes By Neighborhood/Preprocessed_data/Preprocessed_%s_data.csv'%crime_type)\n",
    "data.head()"
   ]
  },
  {
   "cell_type": "code",
   "execution_count": 50,
   "metadata": {},
   "outputs": [
    {
     "data": {
      "text/html": [
       "<div>\n",
       "<style scoped>\n",
       "    .dataframe tbody tr th:only-of-type {\n",
       "        vertical-align: middle;\n",
       "    }\n",
       "\n",
       "    .dataframe tbody tr th {\n",
       "        vertical-align: top;\n",
       "    }\n",
       "\n",
       "    .dataframe thead th {\n",
       "        text-align: right;\n",
       "    }\n",
       "</style>\n",
       "<table border=\"1\" class=\"dataframe\">\n",
       "  <thead>\n",
       "    <tr style=\"text-align: right;\">\n",
       "      <th></th>\n",
       "      <th>Year</th>\n",
       "      <th>Week_Number</th>\n",
       "      <th>NoOfCrimes</th>\n",
       "    </tr>\n",
       "  </thead>\n",
       "  <tbody>\n",
       "    <tr>\n",
       "      <td>count</td>\n",
       "      <td>3024.000000</td>\n",
       "      <td>3024.000000</td>\n",
       "      <td>3024.000000</td>\n",
       "    </tr>\n",
       "    <tr>\n",
       "      <td>mean</td>\n",
       "      <td>2016.735119</td>\n",
       "      <td>25.586310</td>\n",
       "      <td>0.635251</td>\n",
       "    </tr>\n",
       "    <tr>\n",
       "      <td>std</td>\n",
       "      <td>1.870681</td>\n",
       "      <td>15.096201</td>\n",
       "      <td>0.855154</td>\n",
       "    </tr>\n",
       "    <tr>\n",
       "      <td>min</td>\n",
       "      <td>2014.000000</td>\n",
       "      <td>1.000000</td>\n",
       "      <td>0.000000</td>\n",
       "    </tr>\n",
       "    <tr>\n",
       "      <td>25%</td>\n",
       "      <td>2015.000000</td>\n",
       "      <td>12.750000</td>\n",
       "      <td>0.000000</td>\n",
       "    </tr>\n",
       "    <tr>\n",
       "      <td>50%</td>\n",
       "      <td>2017.000000</td>\n",
       "      <td>25.000000</td>\n",
       "      <td>0.000000</td>\n",
       "    </tr>\n",
       "    <tr>\n",
       "      <td>75%</td>\n",
       "      <td>2018.000000</td>\n",
       "      <td>39.000000</td>\n",
       "      <td>1.000000</td>\n",
       "    </tr>\n",
       "    <tr>\n",
       "      <td>max</td>\n",
       "      <td>2020.000000</td>\n",
       "      <td>53.000000</td>\n",
       "      <td>5.000000</td>\n",
       "    </tr>\n",
       "  </tbody>\n",
       "</table>\n",
       "</div>"
      ],
      "text/plain": [
       "              Year  Week_Number   NoOfCrimes\n",
       "count  3024.000000  3024.000000  3024.000000\n",
       "mean   2016.735119    25.586310     0.635251\n",
       "std       1.870681    15.096201     0.855154\n",
       "min    2014.000000     1.000000     0.000000\n",
       "25%    2015.000000    12.750000     0.000000\n",
       "50%    2017.000000    25.000000     0.000000\n",
       "75%    2018.000000    39.000000     1.000000\n",
       "max    2020.000000    53.000000     5.000000"
      ]
     },
     "execution_count": 50,
     "metadata": {},
     "output_type": "execute_result"
    }
   ],
   "source": [
    "data.describe()"
   ]
  },
  {
   "cell_type": "code",
   "execution_count": 51,
   "metadata": {},
   "outputs": [],
   "source": [
    "PoliceDistrict = data['PoliceDistrict'].unique()\n",
    "ts_data_week = {}\n",
    "for district in PoliceDistrict:\n",
    "    ts_data_week[district] = data[data['PoliceDistrict'] == district]"
   ]
  },
  {
   "cell_type": "markdown",
   "metadata": {},
   "source": [
    "## Importing Population Dataset"
   ]
  },
  {
   "cell_type": "code",
   "execution_count": 52,
   "metadata": {},
   "outputs": [
    {
     "data": {
      "text/html": [
       "<div>\n",
       "<style scoped>\n",
       "    .dataframe tbody tr th:only-of-type {\n",
       "        vertical-align: middle;\n",
       "    }\n",
       "\n",
       "    .dataframe tbody tr th {\n",
       "        vertical-align: top;\n",
       "    }\n",
       "\n",
       "    .dataframe thead th {\n",
       "        text-align: right;\n",
       "    }\n",
       "</style>\n",
       "<table border=\"1\" class=\"dataframe\">\n",
       "  <thead>\n",
       "    <tr style=\"text-align: right;\">\n",
       "      <th></th>\n",
       "      <th>Police District</th>\n",
       "      <th>Population</th>\n",
       "    </tr>\n",
       "  </thead>\n",
       "  <tbody>\n",
       "    <tr>\n",
       "      <td>0</td>\n",
       "      <td>CENTRAL</td>\n",
       "      <td>34300</td>\n",
       "    </tr>\n",
       "    <tr>\n",
       "      <td>1</td>\n",
       "      <td>NORTHERN</td>\n",
       "      <td>95194</td>\n",
       "    </tr>\n",
       "    <tr>\n",
       "      <td>2</td>\n",
       "      <td>NORTHWEST</td>\n",
       "      <td>78736</td>\n",
       "    </tr>\n",
       "    <tr>\n",
       "      <td>3</td>\n",
       "      <td>WESTERN</td>\n",
       "      <td>39691</td>\n",
       "    </tr>\n",
       "    <tr>\n",
       "      <td>4</td>\n",
       "      <td>EASTERN</td>\n",
       "      <td>42653</td>\n",
       "    </tr>\n",
       "    <tr>\n",
       "      <td>5</td>\n",
       "      <td>NORTHEAST</td>\n",
       "      <td>155040</td>\n",
       "    </tr>\n",
       "    <tr>\n",
       "      <td>6</td>\n",
       "      <td>SOUTHEAST</td>\n",
       "      <td>69535</td>\n",
       "    </tr>\n",
       "    <tr>\n",
       "      <td>7</td>\n",
       "      <td>SOUTHERN</td>\n",
       "      <td>60141</td>\n",
       "    </tr>\n",
       "    <tr>\n",
       "      <td>8</td>\n",
       "      <td>SOUTHWEST</td>\n",
       "      <td>68743</td>\n",
       "    </tr>\n",
       "  </tbody>\n",
       "</table>\n",
       "</div>"
      ],
      "text/plain": [
       "  Police District  Population\n",
       "0         CENTRAL       34300\n",
       "1        NORTHERN       95194\n",
       "2       NORTHWEST       78736\n",
       "3         WESTERN       39691\n",
       "4         EASTERN       42653\n",
       "5       NORTHEAST      155040\n",
       "6       SOUTHEAST       69535\n",
       "7        SOUTHERN       60141\n",
       "8       SOUTHWEST       68743"
      ]
     },
     "execution_count": 52,
     "metadata": {},
     "output_type": "execute_result"
    }
   ],
   "source": [
    "population_data = pd.read_csv('../../Clean Dataset/Population_By_PoliceDistrict.csv')\n",
    "population_data"
   ]
  },
  {
   "cell_type": "markdown",
   "metadata": {},
   "source": [
    "### Using Population as a Scale\n",
    "Our goal is to find number of crimes in a police district per 10,000 people"
   ]
  },
  {
   "cell_type": "code",
   "execution_count": 53,
   "metadata": {},
   "outputs": [
    {
     "name": "stderr",
     "output_type": "stream",
     "text": [
      "/opt/anaconda3/lib/python3.7/site-packages/ipykernel_launcher.py:5: SettingWithCopyWarning: \n",
      "A value is trying to be set on a copy of a slice from a DataFrame.\n",
      "Try using .loc[row_indexer,col_indexer] = value instead\n",
      "\n",
      "See the caveats in the documentation: http://pandas.pydata.org/pandas-docs/stable/user_guide/indexing.html#returning-a-view-versus-a-copy\n",
      "  \"\"\"\n"
     ]
    },
    {
     "data": {
      "text/plain": [
       "{'SOUTHEAST':      Year PoliceDistrict  Week_Number Year_Week_Number  NoOfCrimes\n",
       " 0    2014      SOUTHEAST            1           2014_1           0\n",
       " 1    2014      SOUTHEAST            2           2014_2           0\n",
       " 2    2014      SOUTHEAST            3           2014_3           0\n",
       " 3    2014      SOUTHEAST            4           2014_4           0\n",
       " 4    2014      SOUTHEAST            5           2014_5           0\n",
       " ..    ...            ...          ...              ...         ...\n",
       " 331  2020      SOUTHEAST           19          2020_19           0\n",
       " 332  2020      SOUTHEAST           20          2020_20           0\n",
       " 333  2020      SOUTHEAST           21          2020_21           0\n",
       " 334  2020      SOUTHEAST           22          2020_22           0\n",
       " 335  2020      SOUTHEAST           23          2020_23           0\n",
       " \n",
       " [336 rows x 5 columns],\n",
       " 'NORTHWEST':      Year PoliceDistrict  Week_Number Year_Week_Number  NoOfCrimes\n",
       " 336  2014      NORTHWEST            1           2014_1           0\n",
       " 337  2014      NORTHWEST            2           2014_2           0\n",
       " 338  2014      NORTHWEST            3           2014_3           0\n",
       " 339  2014      NORTHWEST            4           2014_4           0\n",
       " 340  2014      NORTHWEST            5           2014_5           0\n",
       " ..    ...            ...          ...              ...         ...\n",
       " 667  2020      NORTHWEST           19          2020_19           0\n",
       " 668  2020      NORTHWEST           20          2020_20           0\n",
       " 669  2020      NORTHWEST           21          2020_21           0\n",
       " 670  2020      NORTHWEST           22          2020_22           0\n",
       " 671  2020      NORTHWEST           23          2020_23           0\n",
       " \n",
       " [336 rows x 5 columns],\n",
       " 'EASTERN':       Year PoliceDistrict  Week_Number Year_Week_Number  NoOfCrimes\n",
       " 672   2014        EASTERN            1           2014_1           0\n",
       " 673   2014        EASTERN            2           2014_2           0\n",
       " 674   2014        EASTERN            3           2014_3           0\n",
       " 675   2014        EASTERN            4           2014_4           0\n",
       " 676   2014        EASTERN            5           2014_5           0\n",
       " ...    ...            ...          ...              ...         ...\n",
       " 1003  2020        EASTERN           19          2020_19           1\n",
       " 1004  2020        EASTERN           20          2020_20           0\n",
       " 1005  2020        EASTERN           21          2020_21           0\n",
       " 1006  2020        EASTERN           22          2020_22           0\n",
       " 1007  2020        EASTERN           23          2020_23           0\n",
       " \n",
       " [336 rows x 5 columns],\n",
       " 'NORTHERN':       Year PoliceDistrict  Week_Number Year_Week_Number  NoOfCrimes\n",
       " 1008  2014       NORTHERN            1           2014_1           0\n",
       " 1009  2014       NORTHERN            2           2014_2           0\n",
       " 1010  2014       NORTHERN            3           2014_3           0\n",
       " 1011  2014       NORTHERN            4           2014_4           0\n",
       " 1012  2014       NORTHERN            5           2014_5           0\n",
       " ...    ...            ...          ...              ...         ...\n",
       " 1339  2020       NORTHERN           19          2020_19           0\n",
       " 1340  2020       NORTHERN           20          2020_20           0\n",
       " 1341  2020       NORTHERN           21          2020_21           0\n",
       " 1342  2020       NORTHERN           22          2020_22           0\n",
       " 1343  2020       NORTHERN           23          2020_23           0\n",
       " \n",
       " [336 rows x 5 columns],\n",
       " 'SOUTHERN':       Year PoliceDistrict  Week_Number Year_Week_Number  NoOfCrimes\n",
       " 1344  2014       SOUTHERN            1           2014_1           0\n",
       " 1345  2014       SOUTHERN            2           2014_2           0\n",
       " 1346  2014       SOUTHERN            3           2014_3           0\n",
       " 1347  2014       SOUTHERN            4           2014_4           0\n",
       " 1348  2014       SOUTHERN            5           2014_5           0\n",
       " ...    ...            ...          ...              ...         ...\n",
       " 1675  2020       SOUTHERN           19          2020_19           0\n",
       " 1676  2020       SOUTHERN           20          2020_20           0\n",
       " 1677  2020       SOUTHERN           21          2020_21           0\n",
       " 1678  2020       SOUTHERN           22          2020_22           0\n",
       " 1679  2020       SOUTHERN           23          2020_23           0\n",
       " \n",
       " [336 rows x 5 columns],\n",
       " 'SOUTHWEST':       Year PoliceDistrict  Week_Number Year_Week_Number  NoOfCrimes\n",
       " 1680  2014      SOUTHWEST            1           2014_1           0\n",
       " 1681  2014      SOUTHWEST            2           2014_2           0\n",
       " 1682  2014      SOUTHWEST            3           2014_3           0\n",
       " 1683  2014      SOUTHWEST            4           2014_4           0\n",
       " 1684  2014      SOUTHWEST            5           2014_5           0\n",
       " ...    ...            ...          ...              ...         ...\n",
       " 2011  2020      SOUTHWEST           19          2020_19           0\n",
       " 2012  2020      SOUTHWEST           20          2020_20           0\n",
       " 2013  2020      SOUTHWEST           21          2020_21           0\n",
       " 2014  2020      SOUTHWEST           22          2020_22           0\n",
       " 2015  2020      SOUTHWEST           23          2020_23           0\n",
       " \n",
       " [336 rows x 5 columns],\n",
       " 'NORTHEAST':       Year PoliceDistrict  Week_Number Year_Week_Number  NoOfCrimes\n",
       " 2016  2014      NORTHEAST            1           2014_1           0\n",
       " 2017  2014      NORTHEAST            2           2014_2           0\n",
       " 2018  2014      NORTHEAST            3           2014_3           0\n",
       " 2019  2014      NORTHEAST            4           2014_4           0\n",
       " 2020  2014      NORTHEAST            5           2014_5           0\n",
       " ...    ...            ...          ...              ...         ...\n",
       " 2347  2020      NORTHEAST           19          2020_19           0\n",
       " 2348  2020      NORTHEAST           20          2020_20           0\n",
       " 2349  2020      NORTHEAST           21          2020_21           0\n",
       " 2350  2020      NORTHEAST           22          2020_22           0\n",
       " 2351  2020      NORTHEAST           23          2020_23           0\n",
       " \n",
       " [336 rows x 5 columns],\n",
       " 'WESTERN':       Year PoliceDistrict  Week_Number Year_Week_Number  NoOfCrimes\n",
       " 2352  2014        WESTERN            1           2014_1           0\n",
       " 2353  2014        WESTERN            2           2014_2           0\n",
       " 2354  2014        WESTERN            3           2014_3           0\n",
       " 2355  2014        WESTERN            4           2014_4           0\n",
       " 2356  2014        WESTERN            5           2014_5           0\n",
       " ...    ...            ...          ...              ...         ...\n",
       " 2683  2020        WESTERN           19          2020_19           0\n",
       " 2684  2020        WESTERN           20          2020_20           0\n",
       " 2685  2020        WESTERN           21          2020_21           0\n",
       " 2686  2020        WESTERN           22          2020_22           1\n",
       " 2687  2020        WESTERN           23          2020_23           0\n",
       " \n",
       " [336 rows x 5 columns],\n",
       " 'CENTRAL':       Year PoliceDistrict  Week_Number Year_Week_Number  NoOfCrimes\n",
       " 2688  2014        CENTRAL            1           2014_1           0\n",
       " 2689  2014        CENTRAL            2           2014_2           0\n",
       " 2690  2014        CENTRAL            3           2014_3           0\n",
       " 2691  2014        CENTRAL            4           2014_4           0\n",
       " 2692  2014        CENTRAL            5           2014_5           0\n",
       " ...    ...            ...          ...              ...         ...\n",
       " 3019  2020        CENTRAL           19          2020_19           0\n",
       " 3020  2020        CENTRAL           20          2020_20           1\n",
       " 3021  2020        CENTRAL           21          2020_21           0\n",
       " 3022  2020        CENTRAL           22          2020_22           0\n",
       " 3023  2020        CENTRAL           23          2020_23           1\n",
       " \n",
       " [336 rows x 5 columns]}"
      ]
     },
     "execution_count": 53,
     "metadata": {},
     "output_type": "execute_result"
    }
   ],
   "source": [
    "districts = data['PoliceDistrict'].unique()\n",
    "for district in districts:\n",
    "    number_of_people = population_data[population_data['Police District'] == district]['Population'].values[0]\n",
    "    crime_per_10k = ts_data_week[district]['NoOfCrimes'] / number_of_people * 10000\n",
    "    ts_data_week[district]['NoOfCrimes'] = crime_per_10k.round(0).astype(int)\n",
    "ts_data_week"
   ]
  },
  {
   "cell_type": "code",
   "execution_count": 54,
   "metadata": {},
   "outputs": [
    {
     "data": {
      "image/png": "[encoded data removed]",
      "text/plain": [
       "<Figure size 1080x576 with 1 Axes>"
      ]
     },
     "metadata": {},
     "output_type": "display_data"
    }
   ],
   "source": [
    "crime_dict = {}\n",
    "\n",
    "for dist in ts_data_week:\n",
    "    crime_dict[dist] = ts_data_week[dist]['NoOfCrimes'].sum()\n",
    "crime_df = pd.DataFrame(crime_dict, index = range(len(ts_data_week))).iloc[0].T\n",
    "crime_df.plot.pie(figsize=(15, 8))\n",
    "plt.title('%s crime per Police District'%crime_type, fontsize=20)\n",
    "plt.savefig('../../Graphs/visualization/per_10k/%s_per_policeDistrictCrimes.jpg'%crime_type)"
   ]
  }
 ],
 "metadata": {
  "kernelspec": {
   "display_name": "Python 3",
   "language": "python",
   "name": "python3"
  },
  "language_info": {
   "codemirror_mode": {
    "name": "ipython",
    "version": 3
   },
   "file_extension": ".py",
   "mimetype": "text/x-python",
   "name": "python",
   "nbconvert_exporter": "python",
   "pygments_lexer": "ipython3",
   "version": "3.7.4"
  }
 },
 "nbformat": 4,
 "nbformat_minor": 2
}
