{
 "cells": [
  {
   "cell_type": "markdown",
   "metadata": {},
   "source": [
    "## Library Dependencies"
   ]
  },
  {
   "cell_type": "code",
   "execution_count": 3,
   "metadata": {},
   "outputs": [],
   "source": [
    "import pandas as pd\n",
    "import numpy as np\n",
    "import matplotlib.pyplot as plt\n",
    "import seaborn as sns\n",
    "import os\n",
    "\n",
    "sns.set()"
   ]
  },
  {
   "cell_type": "markdown",
   "metadata": {},
   "source": [
    "## Importing Baltimore Crimes By Neighborhood"
   ]
  },
  {
   "cell_type": "code",
   "execution_count": 25,
   "metadata": {},
   "outputs": [
    {
     "name": "stderr",
     "output_type": "stream",
     "text": [
      "/opt/anaconda3/lib/python3.7/site-packages/IPython/core/interactiveshell.py:3058: DtypeWarning: Columns (7) have mixed types. Specify dtype option on import or set low_memory=False.\n",
      "  interactivity=interactivity, compiler=compiler, result=result)\n"
     ]
    },
    {
     "data": {
      "text/html": [
       "<div>\n",
       "<style scoped>\n",
       "    .dataframe tbody tr th:only-of-type {\n",
       "        vertical-align: middle;\n",
       "    }\n",
       "\n",
       "    .dataframe tbody tr th {\n",
       "        vertical-align: top;\n",
       "    }\n",
       "\n",
       "    .dataframe thead th {\n",
       "        text-align: right;\n",
       "    }\n",
       "</style>\n",
       "<table border=\"1\" class=\"dataframe\">\n",
       "  <thead>\n",
       "    <tr style=\"text-align: right;\">\n",
       "      <th></th>\n",
       "      <th>CrimeDate</th>\n",
       "      <th>CrimeTime</th>\n",
       "      <th>CrimeCode</th>\n",
       "      <th>Location</th>\n",
       "      <th>Description</th>\n",
       "      <th>Inside/Outside</th>\n",
       "      <th>Weapon</th>\n",
       "      <th>Post</th>\n",
       "      <th>District</th>\n",
       "      <th>Neighborhood</th>\n",
       "      <th>Longitude</th>\n",
       "      <th>Latitude</th>\n",
       "      <th>Location 1</th>\n",
       "      <th>Premise</th>\n",
       "      <th>vri_name1</th>\n",
       "      <th>Total Incidents</th>\n",
       "    </tr>\n",
       "  </thead>\n",
       "  <tbody>\n",
       "    <tr>\n",
       "      <td>0</td>\n",
       "      <td>06/06/2020</td>\n",
       "      <td>15:32:00</td>\n",
       "      <td>4E</td>\n",
       "      <td>800 RICHWOOD AVE</td>\n",
       "      <td>COMMON ASSAULT</td>\n",
       "      <td>I</td>\n",
       "      <td>NaN</td>\n",
       "      <td>524</td>\n",
       "      <td>NORTHERN</td>\n",
       "      <td>RICHNOR SPRINGS</td>\n",
       "      <td>-76.604920</td>\n",
       "      <td>39.346381</td>\n",
       "      <td>NaN</td>\n",
       "      <td>ROW/TOWNHOUSE-OCC</td>\n",
       "      <td>NaN</td>\n",
       "      <td>1</td>\n",
       "    </tr>\n",
       "    <tr>\n",
       "      <td>1</td>\n",
       "      <td>06/06/2020</td>\n",
       "      <td>09:16:00</td>\n",
       "      <td>5C</td>\n",
       "      <td>6000 AMBERWOOD RD</td>\n",
       "      <td>BURGLARY</td>\n",
       "      <td>I</td>\n",
       "      <td>NaN</td>\n",
       "      <td>443</td>\n",
       "      <td>NORTHEAST</td>\n",
       "      <td>FRANKFORD</td>\n",
       "      <td>-76.543350</td>\n",
       "      <td>39.316302</td>\n",
       "      <td>NaN</td>\n",
       "      <td>APT/CONDO - OCCUPIED</td>\n",
       "      <td>NaN</td>\n",
       "      <td>1</td>\n",
       "    </tr>\n",
       "    <tr>\n",
       "      <td>2</td>\n",
       "      <td>06/06/2020</td>\n",
       "      <td>13:23:00</td>\n",
       "      <td>6G</td>\n",
       "      <td>1100 ORLEANS ST</td>\n",
       "      <td>LARCENY</td>\n",
       "      <td>I</td>\n",
       "      <td>NaN</td>\n",
       "      <td>211</td>\n",
       "      <td>EASTERN</td>\n",
       "      <td>PLEASENT VIEW GARDENS</td>\n",
       "      <td>-76.602911</td>\n",
       "      <td>39.294721</td>\n",
       "      <td>NaN</td>\n",
       "      <td>ROW/TOWNHOUSE-OCC</td>\n",
       "      <td>NaN</td>\n",
       "      <td>1</td>\n",
       "    </tr>\n",
       "    <tr>\n",
       "      <td>3</td>\n",
       "      <td>06/06/2020</td>\n",
       "      <td>08:35:00</td>\n",
       "      <td>6G</td>\n",
       "      <td>2700 BERYL AVE</td>\n",
       "      <td>LARCENY</td>\n",
       "      <td>I</td>\n",
       "      <td>NaN</td>\n",
       "      <td>333</td>\n",
       "      <td>EASTERN</td>\n",
       "      <td>BIDDLE STREET</td>\n",
       "      <td>-76.579613</td>\n",
       "      <td>39.303053</td>\n",
       "      <td>NaN</td>\n",
       "      <td>OTHER/RESIDENTIAL</td>\n",
       "      <td>Eastern 2</td>\n",
       "      <td>1</td>\n",
       "    </tr>\n",
       "    <tr>\n",
       "      <td>4</td>\n",
       "      <td>06/06/2020</td>\n",
       "      <td>08:35:00</td>\n",
       "      <td>6G</td>\n",
       "      <td>2700 BERYL AVE</td>\n",
       "      <td>LARCENY</td>\n",
       "      <td>I</td>\n",
       "      <td>NaN</td>\n",
       "      <td>333</td>\n",
       "      <td>EASTERN</td>\n",
       "      <td>BIDDLE STREET</td>\n",
       "      <td>-76.579613</td>\n",
       "      <td>39.303053</td>\n",
       "      <td>NaN</td>\n",
       "      <td>OTHER/RESIDENTIAL</td>\n",
       "      <td>Eastern 2</td>\n",
       "      <td>1</td>\n",
       "    </tr>\n",
       "  </tbody>\n",
       "</table>\n",
       "</div>"
      ],
      "text/plain": [
       "    CrimeDate CrimeTime CrimeCode           Location     Description  \\\n",
       "0  06/06/2020  15:32:00        4E   800 RICHWOOD AVE  COMMON ASSAULT   \n",
       "1  06/06/2020  09:16:00        5C  6000 AMBERWOOD RD        BURGLARY   \n",
       "2  06/06/2020  13:23:00        6G    1100 ORLEANS ST         LARCENY   \n",
       "3  06/06/2020  08:35:00        6G     2700 BERYL AVE         LARCENY   \n",
       "4  06/06/2020  08:35:00        6G     2700 BERYL AVE         LARCENY   \n",
       "\n",
       "  Inside/Outside Weapon Post   District           Neighborhood  Longitude  \\\n",
       "0              I    NaN  524   NORTHERN        RICHNOR SPRINGS -76.604920   \n",
       "1              I    NaN  443  NORTHEAST              FRANKFORD -76.543350   \n",
       "2              I    NaN  211    EASTERN  PLEASENT VIEW GARDENS -76.602911   \n",
       "3              I    NaN  333    EASTERN          BIDDLE STREET -76.579613   \n",
       "4              I    NaN  333    EASTERN          BIDDLE STREET -76.579613   \n",
       "\n",
       "    Latitude  Location 1               Premise  vri_name1  Total Incidents  \n",
       "0  39.346381         NaN     ROW/TOWNHOUSE-OCC        NaN                1  \n",
       "1  39.316302         NaN  APT/CONDO - OCCUPIED        NaN                1  \n",
       "2  39.294721         NaN     ROW/TOWNHOUSE-OCC        NaN                1  \n",
       "3  39.303053         NaN     OTHER/RESIDENTIAL  Eastern 2                1  \n",
       "4  39.303053         NaN     OTHER/RESIDENTIAL  Eastern 2                1  "
      ]
     },
     "execution_count": 25,
     "metadata": {},
     "output_type": "execute_result"
    }
   ],
   "source": [
    "data = pd.read_csv('../Dataset/BPD_Part_1_Victim_Based_Crime_Data.csv')\n",
    "data.head()"
   ]
  },
  {
   "cell_type": "code",
   "execution_count": 26,
   "metadata": {},
   "outputs": [
    {
     "data": {
      "text/html": [
       "<div>\n",
       "<style scoped>\n",
       "    .dataframe tbody tr th:only-of-type {\n",
       "        vertical-align: middle;\n",
       "    }\n",
       "\n",
       "    .dataframe tbody tr th {\n",
       "        vertical-align: top;\n",
       "    }\n",
       "\n",
       "    .dataframe thead th {\n",
       "        text-align: right;\n",
       "    }\n",
       "</style>\n",
       "<table border=\"1\" class=\"dataframe\">\n",
       "  <thead>\n",
       "    <tr style=\"text-align: right;\">\n",
       "      <th></th>\n",
       "      <th>Longitude</th>\n",
       "      <th>Latitude</th>\n",
       "      <th>Location 1</th>\n",
       "      <th>Total Incidents</th>\n",
       "    </tr>\n",
       "  </thead>\n",
       "  <tbody>\n",
       "    <tr>\n",
       "      <td>count</td>\n",
       "      <td>302669.000000</td>\n",
       "      <td>302669.000000</td>\n",
       "      <td>0.0</td>\n",
       "      <td>304384.0</td>\n",
       "    </tr>\n",
       "    <tr>\n",
       "      <td>mean</td>\n",
       "      <td>-76.617517</td>\n",
       "      <td>39.306745</td>\n",
       "      <td>NaN</td>\n",
       "      <td>1.0</td>\n",
       "    </tr>\n",
       "    <tr>\n",
       "      <td>std</td>\n",
       "      <td>0.043728</td>\n",
       "      <td>0.029639</td>\n",
       "      <td>NaN</td>\n",
       "      <td>0.0</td>\n",
       "    </tr>\n",
       "    <tr>\n",
       "      <td>min</td>\n",
       "      <td>-81.529189</td>\n",
       "      <td>37.577262</td>\n",
       "      <td>NaN</td>\n",
       "      <td>1.0</td>\n",
       "    </tr>\n",
       "    <tr>\n",
       "      <td>25%</td>\n",
       "      <td>-76.649202</td>\n",
       "      <td>39.288209</td>\n",
       "      <td>NaN</td>\n",
       "      <td>1.0</td>\n",
       "    </tr>\n",
       "    <tr>\n",
       "      <td>50%</td>\n",
       "      <td>-76.614054</td>\n",
       "      <td>39.302743</td>\n",
       "      <td>NaN</td>\n",
       "      <td>1.0</td>\n",
       "    </tr>\n",
       "    <tr>\n",
       "      <td>75%</td>\n",
       "      <td>-76.587083</td>\n",
       "      <td>39.326917</td>\n",
       "      <td>NaN</td>\n",
       "      <td>1.0</td>\n",
       "    </tr>\n",
       "    <tr>\n",
       "      <td>max</td>\n",
       "      <td>-76.383228</td>\n",
       "      <td>39.661332</td>\n",
       "      <td>NaN</td>\n",
       "      <td>1.0</td>\n",
       "    </tr>\n",
       "  </tbody>\n",
       "</table>\n",
       "</div>"
      ],
      "text/plain": [
       "           Longitude       Latitude  Location 1  Total Incidents\n",
       "count  302669.000000  302669.000000         0.0         304384.0\n",
       "mean      -76.617517      39.306745         NaN              1.0\n",
       "std         0.043728       0.029639         NaN              0.0\n",
       "min       -81.529189      37.577262         NaN              1.0\n",
       "25%       -76.649202      39.288209         NaN              1.0\n",
       "50%       -76.614054      39.302743         NaN              1.0\n",
       "75%       -76.587083      39.326917         NaN              1.0\n",
       "max       -76.383228      39.661332         NaN              1.0"
      ]
     },
     "execution_count": 26,
     "metadata": {},
     "output_type": "execute_result"
    }
   ],
   "source": [
    "data.describe()"
   ]
  },
  {
   "cell_type": "markdown",
   "metadata": {},
   "source": [
    "## Data Cleaning"
   ]
  },
  {
   "cell_type": "code",
   "execution_count": 27,
   "metadata": {},
   "outputs": [
    {
     "name": "stdout",
     "output_type": "stream",
     "text": [
      "['CrimeDate', 'Neighborhood']\n"
     ]
    }
   ],
   "source": [
    "columns_in_use = ['CrimeDate', 'Neighborhood']\n",
    "print (columns_in_use)"
   ]
  },
  {
   "cell_type": "code",
   "execution_count": 28,
   "metadata": {},
   "outputs": [
    {
     "name": "stdout",
     "output_type": "stream",
     "text": [
      "Number of Rows with null values in Column CrimeDate = 0\n",
      "Number of Rows with null values in Column Neighborhood = 10697\n",
      "Number of rows droped =  10697\n",
      "Number of rows after droping null values =  293687\n",
      "Data Frame Shape: \n",
      "\t Number of Rows = 293687 \n",
      "\t Number of Columns = 16 \n"
     ]
    }
   ],
   "source": [
    "null_count = 0\n",
    "\n",
    "for i in columns_in_use:\n",
    "    rows_with_null_values = data[data[i].isnull()].index\n",
    "    print ('Number of Rows with null values in Column %s = %s'%(i, len(rows_with_null_values)))\n",
    "    data = data.drop(rows_with_null_values, axis = 0)\n",
    "    null_count += len(rows_with_null_values)\n",
    "\n",
    "print ('Number of rows droped = ', null_count)\n",
    "print ('Number of rows after droping null values = ', data.shape[0])\n",
    "print ('Data Frame Shape: \\n\\t Number of Rows = %s \\n\\t Number of Columns = %s '%(data.shape[0], data.shape[1]))"
   ]
  },
  {
   "cell_type": "markdown",
   "metadata": {},
   "source": [
    "### Saving the Clean Data Set"
   ]
  },
  {
   "cell_type": "code",
   "execution_count": 33,
   "metadata": {},
   "outputs": [],
   "source": [
    "if not os.path.exists('../Clean Dataset'):\n",
    "    os.mkdir('../Clean Dataset')\n",
    "\n",
    "data.to_csv('../Clean Dataset/BPD_Part_1_Victim_Based_Crime_Data.csv', index = False)"
   ]
  },
  {
   "cell_type": "markdown",
   "metadata": {},
   "source": [
    "## Spliting dataset to Sub Crimes and storing the data in CSV files"
   ]
  },
  {
   "cell_type": "code",
   "execution_count": 30,
   "metadata": {},
   "outputs": [
    {
     "name": "stdout",
     "output_type": "stream",
     "text": [
      "['ROBBERY - RESIDENCE', 'SHOOTING', 'ROBBERY - STREET', 'LARCENY', 'ARSON', 'COMMON ASSAULT', 'HOMICIDE', 'AUTO THEFT', 'LARCENY FROM AUTO', 'AGG. ASSAULT', 'RAPE', 'BURGLARY', 'ROBBERY - COMMERCIAL', 'ROBBERY - CARJACKING']\n"
     ]
    }
   ],
   "source": [
    "crime_types = list(set(data['Description']))\n",
    "print (crime_types)\n",
    "crime_dict = {'Homicide': ['HOMICIDE'], \n",
    "              'Robbery': ['BURGLARY',\n",
    "                          'ROBBERY - CARJACKING', \n",
    "                          'ROBBERY - STREET', \n",
    "                          'AUTO THEFT',\n",
    "                          'ROBBERY - RESIDENCE',\n",
    "                          'ROBBERY - COMMERCIAL',\n",
    "                          'LARCENY FROM AUTO',\n",
    "                          'LARCENY'],\n",
    "             'Rape': ['RAPE'],\n",
    "             'Shooting': ['SHOOTING'],\n",
    "             'Assault': ['COMMON ASSAULT', \n",
    "                         'AGG. ASSAULT']}"
   ]
  },
  {
   "cell_type": "code",
   "execution_count": 31,
   "metadata": {},
   "outputs": [],
   "source": [
    "if not os.path.exists('../Clean Dataset/Sub Crimes By Neighborhood'):\n",
    "    os.mkdir('../Clean Dataset/Sub Crimes By Neighborhood')\n",
    "    \n",
    "\n",
    "for crime_type in crime_dict:\n",
    "    sub_crime_category = pd.DataFrame()\n",
    "    for sub_crimes in crime_dict[crime_type]:\n",
    "        sub_crime_category = pd.concat([sub_crime_category,data[data[\"Description\"] == sub_crimes]], axis = 0)\n",
    "    ## Storing the sub crime datatype into CSV files\n",
    "    sub_crime_category.to_csv('../Clean Dataset/Sub Crimes By Neighborhood/%s_By_Neighborhood.csv'%crime_type, index = False)"
   ]
  },
  {
   "cell_type": "code",
   "execution_count": null,
   "metadata": {},
   "outputs": [],
   "source": []
  }
 ],
 "metadata": {
  "kernelspec": {
   "display_name": "Python 3",
   "language": "python",
   "name": "python3"
  },
  "language_info": {
   "codemirror_mode": {
    "name": "ipython",
    "version": 3
   },
   "file_extension": ".py",
   "mimetype": "text/x-python",
   "name": "python",
   "nbconvert_exporter": "python",
   "pygments_lexer": "ipython3",
   "version": "3.7.4"
  }
 },
 "nbformat": 4,
 "nbformat_minor": 2
}
