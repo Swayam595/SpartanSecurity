{
 "cells": [
  {
   "cell_type": "markdown",
   "metadata": {},
   "source": [
    "## Library Dependencies"
   ]
  },
  {
   "cell_type": "code",
   "execution_count": 1,
   "metadata": {},
   "outputs": [],
   "source": [
    "import pandas as pd\n",
    "import numpy as np\n",
    "import matplotlib.pyplot as plt\n",
    "import seaborn as sns\n",
    "import os\n",
    "\n",
    "sns.set()"
   ]
  },
  {
   "cell_type": "markdown",
   "metadata": {},
   "source": [
    "## Importing Baltimore Crimes By Neighborhood"
   ]
  },
  {
   "cell_type": "code",
   "execution_count": 2,
   "metadata": {},
   "outputs": [
    {
     "data": {
      "text/html": [
       "<div>\n",
       "<style scoped>\n",
       "    .dataframe tbody tr th:only-of-type {\n",
       "        vertical-align: middle;\n",
       "    }\n",
       "\n",
       "    .dataframe tbody tr th {\n",
       "        vertical-align: top;\n",
       "    }\n",
       "\n",
       "    .dataframe thead th {\n",
       "        text-align: right;\n",
       "    }\n",
       "</style>\n",
       "<table border=\"1\" class=\"dataframe\">\n",
       "  <thead>\n",
       "    <tr style=\"text-align: right;\">\n",
       "      <th></th>\n",
       "      <th>CrimeDate</th>\n",
       "      <th>CrimeCode</th>\n",
       "      <th>Location</th>\n",
       "      <th>Description</th>\n",
       "      <th>Weapon</th>\n",
       "      <th>District</th>\n",
       "      <th>Neighborhood</th>\n",
       "    </tr>\n",
       "  </thead>\n",
       "  <tbody>\n",
       "    <tr>\n",
       "      <td>0</td>\n",
       "      <td>06/06/2020</td>\n",
       "      <td>4E</td>\n",
       "      <td>800 RICHWOOD AVE</td>\n",
       "      <td>COMMON ASSAULT</td>\n",
       "      <td>NaN</td>\n",
       "      <td>NORTHERN</td>\n",
       "      <td>RICHNOR SPRINGS</td>\n",
       "    </tr>\n",
       "    <tr>\n",
       "      <td>1</td>\n",
       "      <td>06/06/2020</td>\n",
       "      <td>5C</td>\n",
       "      <td>6000 AMBERWOOD RD</td>\n",
       "      <td>BURGLARY</td>\n",
       "      <td>NaN</td>\n",
       "      <td>NORTHEAST</td>\n",
       "      <td>FRANKFORD</td>\n",
       "    </tr>\n",
       "    <tr>\n",
       "      <td>2</td>\n",
       "      <td>06/06/2020</td>\n",
       "      <td>6G</td>\n",
       "      <td>1100 ORLEANS ST</td>\n",
       "      <td>LARCENY</td>\n",
       "      <td>NaN</td>\n",
       "      <td>EASTERN</td>\n",
       "      <td>PLEASENT VIEW GARDENS</td>\n",
       "    </tr>\n",
       "    <tr>\n",
       "      <td>3</td>\n",
       "      <td>06/06/2020</td>\n",
       "      <td>6G</td>\n",
       "      <td>2700 BERYL AVE</td>\n",
       "      <td>LARCENY</td>\n",
       "      <td>NaN</td>\n",
       "      <td>EASTERN</td>\n",
       "      <td>BIDDLE STREET</td>\n",
       "    </tr>\n",
       "    <tr>\n",
       "      <td>4</td>\n",
       "      <td>06/06/2020</td>\n",
       "      <td>6G</td>\n",
       "      <td>2700 BERYL AVE</td>\n",
       "      <td>LARCENY</td>\n",
       "      <td>NaN</td>\n",
       "      <td>EASTERN</td>\n",
       "      <td>BIDDLE STREET</td>\n",
       "    </tr>\n",
       "  </tbody>\n",
       "</table>\n",
       "</div>"
      ],
      "text/plain": [
       "    CrimeDate CrimeCode           Location     Description Weapon   District  \\\n",
       "0  06/06/2020        4E   800 RICHWOOD AVE  COMMON ASSAULT    NaN   NORTHERN   \n",
       "1  06/06/2020        5C  6000 AMBERWOOD RD        BURGLARY    NaN  NORTHEAST   \n",
       "2  06/06/2020        6G    1100 ORLEANS ST         LARCENY    NaN    EASTERN   \n",
       "3  06/06/2020        6G     2700 BERYL AVE         LARCENY    NaN    EASTERN   \n",
       "4  06/06/2020        6G     2700 BERYL AVE         LARCENY    NaN    EASTERN   \n",
       "\n",
       "            Neighborhood  \n",
       "0        RICHNOR SPRINGS  \n",
       "1              FRANKFORD  \n",
       "2  PLEASENT VIEW GARDENS  \n",
       "3          BIDDLE STREET  \n",
       "4          BIDDLE STREET  "
      ]
     },
     "execution_count": 2,
     "metadata": {},
     "output_type": "execute_result"
    }
   ],
   "source": [
    "data = pd.read_csv('../Dataset/Crimes_By_Neighborhood.csv')\n",
    "data.head()"
   ]
  },
  {
   "cell_type": "markdown",
   "metadata": {},
   "source": [
    "## Spliting dataset to Sub Crimes and storing the data in CSV files"
   ]
  },
  {
   "cell_type": "code",
   "execution_count": 3,
   "metadata": {},
   "outputs": [
    {
     "name": "stdout",
     "output_type": "stream",
     "text": [
      "['LARCENY', 'RAPE', 'ROBBERY - STREET', 'LARCENY FROM AUTO', 'BURGLARY', 'COMMON ASSAULT', 'AUTO THEFT', 'AGG. ASSAULT', 'HOMICIDE', 'ROBBERY - RESIDENCE', 'ROBBERY - COMMERCIAL', 'ARSON', 'SHOOTING', 'ROBBERY - CARJACKING']\n"
     ]
    }
   ],
   "source": [
    "crime_types = list(set(data['Description']))\n",
    "print (crime_types)\n",
    "crime_dict = {'Homicide': ['HOMICIDE'], \n",
    "              'Robbery': ['BURGLARY',\n",
    "                          'ROBBERY - CARJACKING', \n",
    "                          'ROBBERY - STREET', \n",
    "                          'AUTO THEFT',\n",
    "                          'ROBBERY - RESIDENCE',\n",
    "                          'ROBBERY - COMMERCIAL',\n",
    "                          'LARCENY FROM AUTO',\n",
    "                          'LARCENY'],\n",
    "             'Rape': ['RAPE'],\n",
    "             'Shooting': ['SHOOTING'],\n",
    "             'Assault': ['COMMON ASSAULT', \n",
    "                         'AGG. ASSAULT']}"
   ]
  },
  {
   "cell_type": "code",
   "execution_count": 5,
   "metadata": {},
   "outputs": [],
   "source": [
    "if not os.path.exists('../Sub Crimes By Neighborhood'):\n",
    "    os.mkdir('../Sub Crimes By Neighborhood')\n",
    "\n",
    "for crime_type in crime_dict:\n",
    "    sub_crime_category = pd.DataFrame()\n",
    "    for sub_crimes in crime_dict[crime_type]:\n",
    "        sub_crime_category = pd.concat([sub_crime_category,data[data[\"Description\"] == sub_crimes]], axis = 0)\n",
    "    sub_crime_category.to_csv('../Sub Crimes By Neighborhood/%s_By_Neighborhood.csv'%crime_type)"
   ]
  },
  {
   "cell_type": "code",
   "execution_count": null,
   "metadata": {},
   "outputs": [],
   "source": []
  }
 ],
 "metadata": {
  "kernelspec": {
   "display_name": "Python 3",
   "language": "python",
   "name": "python3"
  },
  "language_info": {
   "codemirror_mode": {
    "name": "ipython",
    "version": 3
   },
   "file_extension": ".py",
   "mimetype": "text/x-python",
   "name": "python",
   "nbconvert_exporter": "python",
   "pygments_lexer": "ipython3",
   "version": "3.7.4"
  }
 },
 "nbformat": 4,
 "nbformat_minor": 2
}
